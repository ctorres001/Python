{
 "cells": [
  {
   "cell_type": "markdown",
   "id": "bd6daf3a",
   "metadata": {},
   "source": [
    "Analisis de datos"
   ]
  },
  {
   "cell_type": "markdown",
   "id": "6bc9cd78",
   "metadata": {},
   "source": [
    "Importar librerias como primer paso para que se ejecuten los procesos posteriores"
   ]
  },
  {
   "cell_type": "code",
   "execution_count": 1,
   "id": "68c58819",
   "metadata": {},
   "outputs": [],
   "source": [
    "import pandas as pd\n",
    "import sqlalchemy\n",
    "import urllib\n",
    "import chardet\n",
    "import pyodbc\n",
    "from datetime import datetime\n",
    "import logging"
   ]
  },
  {
   "cell_type": "markdown",
   "id": "e9e41518",
   "metadata": {},
   "source": [
    "Codigo para cargar el Reporte Diario con vista de todas las columnas, las 10 primeras filas"
   ]
  },
  {
   "cell_type": "code",
   "execution_count": null,
   "id": "02acfcec",
   "metadata": {},
   "outputs": [],
   "source": [
    "# Configura pandas para mostrar todas las columnas del DataFrame\n",
    "pd.set_option('display.max_columns', None)\n",
    "\n",
    "# Ruta completa del archivo .xlsm\n",
    "file_path = r\"D:\\FNB\\Reportes\\01. Reporte Diario\\01 Dashboard FNB.xlsm\"\n",
    "\n",
    "# Nombre de la hoja\n",
    "sheet_name = \"BD Colocaciones FNB\"\n",
    "\n",
    "# Leer el archivo Excel\n",
    "df = pd.read_excel(file_path, sheet_name=sheet_name, engine=\"openpyxl\", header=1)\n",
    "\n",
    "# Mostrar todas las columnas\n",
    "df.head(10)"
   ]
  },
  {
   "cell_type": "code",
   "execution_count": 14,
   "id": "38df69c6",
   "metadata": {},
   "outputs": [
    {
     "name": "stdout",
     "output_type": "stream",
     "text": [
      "04.09.2025                                                                                                          Salida dinámica de lista                                                                                                                                                                1\n",
      "\n",
      "Reporte:\t\t\tReporte Base de Clientes - FNB\n",
      "Usuario:\t\t\tC_CTORRES\n",
      "Fecha de Ejecución:\t\t\t04.09.2025\n",
      "Periodo:\t\t\tde 07/08/2023 a 07/08/2023\n",
      "Total Registros:\t\t\t                                                    1002839\n",
      "\n",
      "Item\tFecha Eval\t\tTipo Docum\tN.I.F.1\tInt.cial.\tNombre\tSaldo Créd\tCta.Contr.\tDistrito\tDirección\t\tCaCta\tTexto categ.cuenta\n",
      "\n",
      "1\t07.08.2023\t\tDNI\t06311049\t5000350448\tYOLANDA BENITA DELGADO LLERENA\t 5,000.00\t730186\tCOMAS\tJR ANSELMO ANDIA 516 Etapa 2 Piso 4 Urb. SANTA LUZMILA COMAS LIMA\t\tRESM\tResidencial - Multifamiliar\n",
      "2\t07.08.2023\t\tDNI\t06311049\t5000350448\tYOLANDA BENITA DELGADO LLERENA\t 5,000.00\t730190\tCOMAS\tJR ANSELMO ANDIA 516 Etapa 2 Piso 1 Interior B Urb. SANTA LUZMILA COMAS LIMA\t\tRESM\tResidencial - Multifamiliar\n",
      "3\t07.08.2023\t\tDNI\t06311049\t5000350448\tYOLANDA BENITA DELGADO LLERENA\t 5,000.00\t730201\tCOMAS\tJR ANSELMO ANDIA 516 Etapa 2 Piso 4 Urb. SANTA LUZMILA COMAS LIMA\t\tRESM\tResidencial - Multifamiliar\n",
      "4\t07.08.2023\t\tDNI\t06311049\t5000350448\tYOLANDA BENITA DELGADO LLERENA\t 5,000.00\t730183\tCOMAS\tJR ANSELMO ANDIA 516 Etapa 2 Piso 4 Interior B Urb. SANTA LUZMILA COMAS LIMA\t\tRESM\tResidencial - Multifamiliar\n",
      "5\t07.08.2023\t\tDNI\t06311049\t5000350448\tYOLANDA BENITA DELGADO LLERENA\t 5,000.00\t730188\tCOMAS\tJR ANSELMO ANDIA 516 Etapa 2 Piso 1 Urb. SANTA LUZMILA COMAS LIMA\t\tRESM\tResidencial - Multifamiliar\n",
      "6\t07.08.2023\t\tDNI\t06311049\t5000350448\tYOLANDA BENITA DELGADO LLERENA\t 5,000.00\t730193\tCOMAS\tJR ANSELMO ANDIA 516 Etapa 2 Piso 1 Interior C Urb. SANTA LUZMILA COMAS LIMA\t\tRESM\tResidencial - Multifamiliar\n",
      "7\t07.08.2023\t\tDNI\t06311049\t5000350448\tYOLANDA BENITA DELGADO LLERENA\t 5,000.00\t730194\tCOMAS\tJR ANSELMO ANDIA 516 Etapa 2 Piso 4 Interior C Urb. SANTA LUZMILA COMAS LIMA\t\tRESM\tResidencial - Multifamiliar\n",
      "8\t07.08.2023\t\tDNI\t06311049\t5000350448\tYOLANDA BENITA DELGADO LLERENA\t 5,000.00\t730197\tCOMAS\tJR ANSELMO ANDIA 516 Etapa 2 Piso 4 Interior D Urb. SANTA LUZMILA COMAS LIMA\t\tRESM\tResidencial - Multifamiliar\n",
      "9\t07.08.2023\t\tDNI\t06311049\t5000350448\tYOLANDA BENITA DELGADO LLERENA\t 5,000.00\t730199\tCOMAS\tJR ANSELMO ANDIA 516 Etapa 2 Piso 4 Interior E Urb. SANTA LUZMILA COMAS LIMA\t\tRESM\tResidencial - Multifamiliar\n",
      "10\t07.08.2023\t\tDNI\t06311049\t5000350448\tYOLANDA BENITA DELGADO LLERENA\t 5,000.00\t730204\tCOMAS\tJR ANSELMO ANDIA 516 Etapa 2 Piso 4 Interior G Urb. SANTA LUZMILA COMAS LIMA\t\tRESM\tResidencial - Multifamiliar\n"
     ]
    },
    {
     "name": "stderr",
     "output_type": "stream",
     "text": [
      "<>:17: SyntaxWarning: invalid escape sequence '\\D'\n",
      "<>:17: SyntaxWarning: invalid escape sequence '\\D'\n",
      "C:\\Users\\carlos.torres2\\AppData\\Local\\Temp\\ipykernel_6724\\1382898820.py:17: SyntaxWarning: invalid escape sequence '\\D'\n",
      "  ruta_archivo = 'D:\\Descargas\\ZSDR032_OFF_LI_20250501.txt'\n"
     ]
    }
   ],
   "source": [
    "# -*- coding: utf-8 -*-\n",
    "def leer_txt_renglones(filepath, num_lineas=20):\n",
    "    try:\n",
    "        with open(filepath, 'r', encoding='latin-1') as archivo:\n",
    "            for i, linea in enumerate(archivo):\n",
    "                print(linea.strip())\n",
    "                if i + 1 >= num_lineas:\n",
    "                    break\n",
    "    except UnicodeDecodeError:\n",
    "        print(\"⚠️ Error de codificación. Intenta con 'latin-1' o 'ISO-8859-1'.\")\n",
    "    except FileNotFoundError:\n",
    "        print(f\"❌ Archivo no encontrado: {filepath}\")\n",
    "    except Exception as e:\n",
    "        print(f\"🚨 Error inesperado: {e}\")\n",
    "\n",
    "# Ejemplo de uso\n",
    "ruta_archivo = 'D:\\Descargas\\ZSDR032_OFF_LI_20250501.txt'\n",
    "leer_txt_renglones(ruta_archivo)\n"
   ]
  }
 ],
 "metadata": {
  "kernelspec": {
   "display_name": ".venv1",
   "language": "python",
   "name": "python3"
  },
  "language_info": {
   "codemirror_mode": {
    "name": "ipython",
    "version": 3
   },
   "file_extension": ".py",
   "mimetype": "text/x-python",
   "name": "python",
   "nbconvert_exporter": "python",
   "pygments_lexer": "ipython3",
   "version": "3.13.5"
  }
 },
 "nbformat": 4,
 "nbformat_minor": 5
}
